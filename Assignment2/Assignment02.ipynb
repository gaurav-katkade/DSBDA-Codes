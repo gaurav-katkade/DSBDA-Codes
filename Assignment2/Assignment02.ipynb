{
 "cells": [
  {
   "cell_type": "code",
   "execution_count": 46,
   "id": "c28c5660",
   "metadata": {},
   "outputs": [],
   "source": [
    "import pandas as pd\n",
    "df=pd.read_csv('A2data.csv')"
   ]
  },
  {
   "cell_type": "code",
   "execution_count": 47,
   "id": "17bd2362",
   "metadata": {},
   "outputs": [
    {
     "data": {
      "text/html": [
       "<div>\n",
       "<style scoped>\n",
       "    .dataframe tbody tr th:only-of-type {\n",
       "        vertical-align: middle;\n",
       "    }\n",
       "\n",
       "    .dataframe tbody tr th {\n",
       "        vertical-align: top;\n",
       "    }\n",
       "\n",
       "    .dataframe thead th {\n",
       "        text-align: right;\n",
       "    }\n",
       "</style>\n",
       "<table border=\"1\" class=\"dataframe\">\n",
       "  <thead>\n",
       "    <tr style=\"text-align: right;\">\n",
       "      <th></th>\n",
       "      <th>Maths</th>\n",
       "      <th>Reading</th>\n",
       "      <th>Writing</th>\n",
       "      <th>Placement</th>\n",
       "      <th>Club_Join_Year</th>\n",
       "      <th>Placement_Count</th>\n",
       "    </tr>\n",
       "  </thead>\n",
       "  <tbody>\n",
       "    <tr>\n",
       "      <th>0</th>\n",
       "      <td>78.0</td>\n",
       "      <td>89.0</td>\n",
       "      <td>68.0</td>\n",
       "      <td>79</td>\n",
       "      <td>2020</td>\n",
       "      <td>1</td>\n",
       "    </tr>\n",
       "    <tr>\n",
       "      <th>1</th>\n",
       "      <td>82.0</td>\n",
       "      <td>82.0</td>\n",
       "      <td>82.0</td>\n",
       "      <td>77</td>\n",
       "      <td>2018</td>\n",
       "      <td>1</td>\n",
       "    </tr>\n",
       "    <tr>\n",
       "      <th>2</th>\n",
       "      <td>87.0</td>\n",
       "      <td>NaN</td>\n",
       "      <td>60.0</td>\n",
       "      <td>82</td>\n",
       "      <td>2022</td>\n",
       "      <td>2</td>\n",
       "    </tr>\n",
       "    <tr>\n",
       "      <th>3</th>\n",
       "      <td>NaN</td>\n",
       "      <td>60.0</td>\n",
       "      <td>NaN</td>\n",
       "      <td>89</td>\n",
       "      <td>2023</td>\n",
       "      <td>2</td>\n",
       "    </tr>\n",
       "    <tr>\n",
       "      <th>4</th>\n",
       "      <td>85.0</td>\n",
       "      <td>72.0</td>\n",
       "      <td>63.0</td>\n",
       "      <td>89</td>\n",
       "      <td>2022</td>\n",
       "      <td>2</td>\n",
       "    </tr>\n",
       "    <tr>\n",
       "      <th>...</th>\n",
       "      <td>...</td>\n",
       "      <td>...</td>\n",
       "      <td>...</td>\n",
       "      <td>...</td>\n",
       "      <td>...</td>\n",
       "      <td>...</td>\n",
       "    </tr>\n",
       "    <tr>\n",
       "      <th>64</th>\n",
       "      <td>75.0</td>\n",
       "      <td>68.0</td>\n",
       "      <td>70.0</td>\n",
       "      <td>85</td>\n",
       "      <td>2020</td>\n",
       "      <td>2</td>\n",
       "    </tr>\n",
       "    <tr>\n",
       "      <th>65</th>\n",
       "      <td>60.0</td>\n",
       "      <td>75.0</td>\n",
       "      <td>82.0</td>\n",
       "      <td>77</td>\n",
       "      <td>2022</td>\n",
       "      <td>4</td>\n",
       "    </tr>\n",
       "    <tr>\n",
       "      <th>66</th>\n",
       "      <td>84.0</td>\n",
       "      <td>NaN</td>\n",
       "      <td>NaN</td>\n",
       "      <td>100</td>\n",
       "      <td>2020</td>\n",
       "      <td>3</td>\n",
       "    </tr>\n",
       "    <tr>\n",
       "      <th>67</th>\n",
       "      <td>64.0</td>\n",
       "      <td>68.0</td>\n",
       "      <td>139.0</td>\n",
       "      <td>95</td>\n",
       "      <td>2020</td>\n",
       "      <td>3</td>\n",
       "    </tr>\n",
       "    <tr>\n",
       "      <th>68</th>\n",
       "      <td>76.0</td>\n",
       "      <td>155.0</td>\n",
       "      <td>86.0</td>\n",
       "      <td>91</td>\n",
       "      <td>2020</td>\n",
       "      <td>3</td>\n",
       "    </tr>\n",
       "  </tbody>\n",
       "</table>\n",
       "<p>69 rows × 6 columns</p>\n",
       "</div>"
      ],
      "text/plain": [
       "    Maths  Reading  Writing  Placement  Club_Join_Year  Placement_Count\n",
       "0    78.0     89.0     68.0         79            2020                1\n",
       "1    82.0     82.0     82.0         77            2018                1\n",
       "2    87.0      NaN     60.0         82            2022                2\n",
       "3     NaN     60.0      NaN         89            2023                2\n",
       "4    85.0     72.0     63.0         89            2022                2\n",
       "..    ...      ...      ...        ...             ...              ...\n",
       "64   75.0     68.0     70.0         85            2020                2\n",
       "65   60.0     75.0     82.0         77            2022                4\n",
       "66   84.0      NaN      NaN        100            2020                3\n",
       "67   64.0     68.0    139.0         95            2020                3\n",
       "68   76.0    155.0     86.0         91            2020                3\n",
       "\n",
       "[69 rows x 6 columns]"
      ]
     },
     "execution_count": 47,
     "metadata": {},
     "output_type": "execute_result"
    }
   ],
   "source": [
    "df"
   ]
  },
  {
   "cell_type": "markdown",
   "id": "fde914f4",
   "metadata": {},
   "source": [
    "General information"
   ]
  },
  {
   "cell_type": "code",
   "execution_count": 48,
   "id": "c603ba2e",
   "metadata": {},
   "outputs": [
    {
     "name": "stdout",
     "output_type": "stream",
     "text": [
      "<class 'pandas.core.frame.DataFrame'>\n",
      "RangeIndex: 69 entries, 0 to 68\n",
      "Data columns (total 6 columns):\n",
      " #   Column           Non-Null Count  Dtype  \n",
      "---  ------           --------------  -----  \n",
      " 0   Maths            63 non-null     float64\n",
      " 1   Reading          58 non-null     float64\n",
      " 2   Writing          51 non-null     float64\n",
      " 3   Placement        69 non-null     int64  \n",
      " 4   Club_Join_Year   69 non-null     int64  \n",
      " 5   Placement_Count  69 non-null     int64  \n",
      "dtypes: float64(3), int64(3)\n",
      "memory usage: 3.4 KB\n"
     ]
    }
   ],
   "source": [
    "df.info()"
   ]
  },
  {
   "cell_type": "code",
   "execution_count": 49,
   "id": "9a257716",
   "metadata": {},
   "outputs": [
    {
     "data": {
      "text/html": [
       "<div>\n",
       "<style scoped>\n",
       "    .dataframe tbody tr th:only-of-type {\n",
       "        vertical-align: middle;\n",
       "    }\n",
       "\n",
       "    .dataframe tbody tr th {\n",
       "        vertical-align: top;\n",
       "    }\n",
       "\n",
       "    .dataframe thead th {\n",
       "        text-align: right;\n",
       "    }\n",
       "</style>\n",
       "<table border=\"1\" class=\"dataframe\">\n",
       "  <thead>\n",
       "    <tr style=\"text-align: right;\">\n",
       "      <th></th>\n",
       "      <th>Maths</th>\n",
       "      <th>Reading</th>\n",
       "      <th>Writing</th>\n",
       "      <th>Placement</th>\n",
       "      <th>Club_Join_Year</th>\n",
       "      <th>Placement_Count</th>\n",
       "    </tr>\n",
       "  </thead>\n",
       "  <tbody>\n",
       "    <tr>\n",
       "      <th>count</th>\n",
       "      <td>63.000000</td>\n",
       "      <td>58.000000</td>\n",
       "      <td>51.000000</td>\n",
       "      <td>69.000000</td>\n",
       "      <td>69.000000</td>\n",
       "      <td>69.000000</td>\n",
       "    </tr>\n",
       "    <tr>\n",
       "      <th>mean</th>\n",
       "      <td>75.825397</td>\n",
       "      <td>80.810345</td>\n",
       "      <td>85.156863</td>\n",
       "      <td>88.188406</td>\n",
       "      <td>2020.623188</td>\n",
       "      <td>2.521739</td>\n",
       "    </tr>\n",
       "    <tr>\n",
       "      <th>std</th>\n",
       "      <td>13.136430</td>\n",
       "      <td>17.049419</td>\n",
       "      <td>37.900592</td>\n",
       "      <td>7.902485</td>\n",
       "      <td>1.618836</td>\n",
       "      <td>0.994229</td>\n",
       "    </tr>\n",
       "    <tr>\n",
       "      <th>min</th>\n",
       "      <td>60.000000</td>\n",
       "      <td>60.000000</td>\n",
       "      <td>60.000000</td>\n",
       "      <td>75.000000</td>\n",
       "      <td>2018.000000</td>\n",
       "      <td>1.000000</td>\n",
       "    </tr>\n",
       "    <tr>\n",
       "      <th>25%</th>\n",
       "      <td>66.500000</td>\n",
       "      <td>72.250000</td>\n",
       "      <td>66.500000</td>\n",
       "      <td>81.000000</td>\n",
       "      <td>2019.000000</td>\n",
       "      <td>2.000000</td>\n",
       "    </tr>\n",
       "    <tr>\n",
       "      <th>50%</th>\n",
       "      <td>75.000000</td>\n",
       "      <td>79.500000</td>\n",
       "      <td>75.000000</td>\n",
       "      <td>89.000000</td>\n",
       "      <td>2021.000000</td>\n",
       "      <td>3.000000</td>\n",
       "    </tr>\n",
       "    <tr>\n",
       "      <th>75%</th>\n",
       "      <td>82.000000</td>\n",
       "      <td>84.750000</td>\n",
       "      <td>84.500000</td>\n",
       "      <td>95.000000</td>\n",
       "      <td>2022.000000</td>\n",
       "      <td>3.000000</td>\n",
       "    </tr>\n",
       "    <tr>\n",
       "      <th>max</th>\n",
       "      <td>144.000000</td>\n",
       "      <td>155.000000</td>\n",
       "      <td>280.000000</td>\n",
       "      <td>100.000000</td>\n",
       "      <td>2023.000000</td>\n",
       "      <td>6.000000</td>\n",
       "    </tr>\n",
       "  </tbody>\n",
       "</table>\n",
       "</div>"
      ],
      "text/plain": [
       "            Maths     Reading     Writing   Placement  Club_Join_Year  \\\n",
       "count   63.000000   58.000000   51.000000   69.000000       69.000000   \n",
       "mean    75.825397   80.810345   85.156863   88.188406     2020.623188   \n",
       "std     13.136430   17.049419   37.900592    7.902485        1.618836   \n",
       "min     60.000000   60.000000   60.000000   75.000000     2018.000000   \n",
       "25%     66.500000   72.250000   66.500000   81.000000     2019.000000   \n",
       "50%     75.000000   79.500000   75.000000   89.000000     2021.000000   \n",
       "75%     82.000000   84.750000   84.500000   95.000000     2022.000000   \n",
       "max    144.000000  155.000000  280.000000  100.000000     2023.000000   \n",
       "\n",
       "       Placement_Count  \n",
       "count        69.000000  \n",
       "mean          2.521739  \n",
       "std           0.994229  \n",
       "min           1.000000  \n",
       "25%           2.000000  \n",
       "50%           3.000000  \n",
       "75%           3.000000  \n",
       "max           6.000000  "
      ]
     },
     "execution_count": 49,
     "metadata": {},
     "output_type": "execute_result"
    }
   ],
   "source": [
    "df.describe()"
   ]
  },
  {
   "cell_type": "markdown",
   "id": "672e7031",
   "metadata": {},
   "source": [
    "Checking out missing values"
   ]
  },
  {
   "cell_type": "code",
   "execution_count": 50,
   "id": "4b2f101c",
   "metadata": {},
   "outputs": [
    {
     "data": {
      "text/plain": [
       "Maths               6\n",
       "Reading            11\n",
       "Writing            18\n",
       "Placement           0\n",
       "Club_Join_Year      0\n",
       "Placement_Count     0\n",
       "dtype: int64"
      ]
     },
     "execution_count": 50,
     "metadata": {},
     "output_type": "execute_result"
    }
   ],
   "source": [
    "df.isnull().sum()"
   ]
  },
  {
   "cell_type": "markdown",
   "id": "6bd240d8",
   "metadata": {},
   "source": [
    "Dealing wiht missing values"
   ]
  },
  {
   "cell_type": "markdown",
   "id": "e4e6a2d4",
   "metadata": {},
   "source": [
    "1)For Maths column, we will drop the rows"
   ]
  },
  {
   "cell_type": "code",
   "execution_count": 59,
   "id": "ddcdb29e",
   "metadata": {},
   "outputs": [],
   "source": [
    "import numpy as np\n",
    "df.drop(df.index[df['Maths'].isna()], inplace=True)"
   ]
  },
  {
   "cell_type": "code",
   "execution_count": 60,
   "id": "b4f00827",
   "metadata": {},
   "outputs": [
    {
     "data": {
      "text/html": [
       "<div>\n",
       "<style scoped>\n",
       "    .dataframe tbody tr th:only-of-type {\n",
       "        vertical-align: middle;\n",
       "    }\n",
       "\n",
       "    .dataframe tbody tr th {\n",
       "        vertical-align: top;\n",
       "    }\n",
       "\n",
       "    .dataframe thead th {\n",
       "        text-align: right;\n",
       "    }\n",
       "</style>\n",
       "<table border=\"1\" class=\"dataframe\">\n",
       "  <thead>\n",
       "    <tr style=\"text-align: right;\">\n",
       "      <th></th>\n",
       "      <th>Maths</th>\n",
       "      <th>Reading</th>\n",
       "      <th>Writing</th>\n",
       "      <th>Placement</th>\n",
       "      <th>Club_Join_Year</th>\n",
       "      <th>Placement_Count</th>\n",
       "    </tr>\n",
       "  </thead>\n",
       "  <tbody>\n",
       "    <tr>\n",
       "      <th>0</th>\n",
       "      <td>78.0</td>\n",
       "      <td>89.0</td>\n",
       "      <td>68.0</td>\n",
       "      <td>79</td>\n",
       "      <td>2020</td>\n",
       "      <td>1</td>\n",
       "    </tr>\n",
       "    <tr>\n",
       "      <th>1</th>\n",
       "      <td>82.0</td>\n",
       "      <td>82.0</td>\n",
       "      <td>82.0</td>\n",
       "      <td>77</td>\n",
       "      <td>2018</td>\n",
       "      <td>1</td>\n",
       "    </tr>\n",
       "    <tr>\n",
       "      <th>2</th>\n",
       "      <td>87.0</td>\n",
       "      <td>NaN</td>\n",
       "      <td>60.0</td>\n",
       "      <td>82</td>\n",
       "      <td>2022</td>\n",
       "      <td>2</td>\n",
       "    </tr>\n",
       "    <tr>\n",
       "      <th>4</th>\n",
       "      <td>85.0</td>\n",
       "      <td>72.0</td>\n",
       "      <td>63.0</td>\n",
       "      <td>89</td>\n",
       "      <td>2022</td>\n",
       "      <td>2</td>\n",
       "    </tr>\n",
       "    <tr>\n",
       "      <th>5</th>\n",
       "      <td>60.0</td>\n",
       "      <td>NaN</td>\n",
       "      <td>63.0</td>\n",
       "      <td>99</td>\n",
       "      <td>2021</td>\n",
       "      <td>3</td>\n",
       "    </tr>\n",
       "    <tr>\n",
       "      <th>...</th>\n",
       "      <td>...</td>\n",
       "      <td>...</td>\n",
       "      <td>...</td>\n",
       "      <td>...</td>\n",
       "      <td>...</td>\n",
       "      <td>...</td>\n",
       "    </tr>\n",
       "    <tr>\n",
       "      <th>64</th>\n",
       "      <td>75.0</td>\n",
       "      <td>68.0</td>\n",
       "      <td>70.0</td>\n",
       "      <td>85</td>\n",
       "      <td>2020</td>\n",
       "      <td>2</td>\n",
       "    </tr>\n",
       "    <tr>\n",
       "      <th>65</th>\n",
       "      <td>60.0</td>\n",
       "      <td>75.0</td>\n",
       "      <td>82.0</td>\n",
       "      <td>77</td>\n",
       "      <td>2022</td>\n",
       "      <td>4</td>\n",
       "    </tr>\n",
       "    <tr>\n",
       "      <th>66</th>\n",
       "      <td>84.0</td>\n",
       "      <td>NaN</td>\n",
       "      <td>NaN</td>\n",
       "      <td>100</td>\n",
       "      <td>2020</td>\n",
       "      <td>3</td>\n",
       "    </tr>\n",
       "    <tr>\n",
       "      <th>67</th>\n",
       "      <td>64.0</td>\n",
       "      <td>68.0</td>\n",
       "      <td>139.0</td>\n",
       "      <td>95</td>\n",
       "      <td>2020</td>\n",
       "      <td>3</td>\n",
       "    </tr>\n",
       "    <tr>\n",
       "      <th>68</th>\n",
       "      <td>76.0</td>\n",
       "      <td>155.0</td>\n",
       "      <td>86.0</td>\n",
       "      <td>91</td>\n",
       "      <td>2020</td>\n",
       "      <td>3</td>\n",
       "    </tr>\n",
       "  </tbody>\n",
       "</table>\n",
       "<p>63 rows × 6 columns</p>\n",
       "</div>"
      ],
      "text/plain": [
       "    Maths  Reading  Writing  Placement  Club_Join_Year  Placement_Count\n",
       "0    78.0     89.0     68.0         79            2020                1\n",
       "1    82.0     82.0     82.0         77            2018                1\n",
       "2    87.0      NaN     60.0         82            2022                2\n",
       "4    85.0     72.0     63.0         89            2022                2\n",
       "5    60.0      NaN     63.0         99            2021                3\n",
       "..    ...      ...      ...        ...             ...              ...\n",
       "64   75.0     68.0     70.0         85            2020                2\n",
       "65   60.0     75.0     82.0         77            2022                4\n",
       "66   84.0      NaN      NaN        100            2020                3\n",
       "67   64.0     68.0    139.0         95            2020                3\n",
       "68   76.0    155.0     86.0         91            2020                3\n",
       "\n",
       "[63 rows x 6 columns]"
      ]
     },
     "execution_count": 60,
     "metadata": {},
     "output_type": "execute_result"
    }
   ],
   "source": [
    "df"
   ]
  },
  {
   "cell_type": "code",
   "execution_count": 61,
   "id": "4a3675cd",
   "metadata": {},
   "outputs": [
    {
     "data": {
      "text/plain": [
       "0"
      ]
     },
     "execution_count": 61,
     "metadata": {},
     "output_type": "execute_result"
    }
   ],
   "source": [
    "df['Maths'].isnull().sum()"
   ]
  },
  {
   "cell_type": "markdown",
   "id": "9a98187f",
   "metadata": {},
   "source": [
    "2)For Reading column we will replace null values by 75"
   ]
  },
  {
   "cell_type": "code",
   "execution_count": 62,
   "id": "e7133140",
   "metadata": {},
   "outputs": [],
   "source": [
    "df['Reading'].replace(to_replace=np.nan,value=75,inplace=True)"
   ]
  },
  {
   "cell_type": "code",
   "execution_count": 63,
   "id": "1942d4de",
   "metadata": {},
   "outputs": [
    {
     "name": "stdout",
     "output_type": "stream",
     "text": [
      "    Maths  Reading  Writing  Placement  Club_Join_Year  Placement_Count\n",
      "0    78.0     89.0     68.0         79            2020                1\n",
      "1    82.0     82.0     82.0         77            2018                1\n",
      "2    87.0     75.0     60.0         82            2022                2\n",
      "4    85.0     72.0     63.0         89            2022                2\n",
      "5    60.0     75.0     63.0         99            2021                3\n",
      "..    ...      ...      ...        ...             ...              ...\n",
      "64   75.0     68.0     70.0         85            2020                2\n",
      "65   60.0     75.0     82.0         77            2022                4\n",
      "66   84.0     75.0      NaN        100            2020                3\n",
      "67   64.0     68.0    139.0         95            2020                3\n",
      "68   76.0    155.0     86.0         91            2020                3\n",
      "\n",
      "[63 rows x 6 columns]\n"
     ]
    }
   ],
   "source": [
    "print(df)"
   ]
  },
  {
   "cell_type": "code",
   "execution_count": 64,
   "id": "03605bd4",
   "metadata": {},
   "outputs": [
    {
     "data": {
      "text/plain": [
       "0"
      ]
     },
     "execution_count": 64,
     "metadata": {},
     "output_type": "execute_result"
    }
   ],
   "source": [
    "df['Reading'].isnull().sum()"
   ]
  },
  {
   "cell_type": "markdown",
   "id": "0751b2b4",
   "metadata": {},
   "source": [
    "3)For Wriitng we will take out mean and will use fillna method"
   ]
  },
  {
   "cell_type": "code",
   "execution_count": 65,
   "id": "b0b264bb",
   "metadata": {},
   "outputs": [],
   "source": [
    "m=df['Writing'].mean()"
   ]
  },
  {
   "cell_type": "code",
   "execution_count": 66,
   "id": "5904f794",
   "metadata": {},
   "outputs": [
    {
     "data": {
      "text/plain": [
       "85.91489361702128"
      ]
     },
     "execution_count": 66,
     "metadata": {},
     "output_type": "execute_result"
    }
   ],
   "source": [
    "m"
   ]
  },
  {
   "cell_type": "code",
   "execution_count": 68,
   "id": "34f3c494",
   "metadata": {},
   "outputs": [],
   "source": [
    "df['Writing'].fillna(value=m,inplace=True)"
   ]
  },
  {
   "cell_type": "code",
   "execution_count": 69,
   "id": "f73af6b1",
   "metadata": {},
   "outputs": [
    {
     "data": {
      "text/plain": [
       "0"
      ]
     },
     "execution_count": 69,
     "metadata": {},
     "output_type": "execute_result"
    }
   ],
   "source": [
    "df['Writing'].isnull().sum()"
   ]
  },
  {
   "cell_type": "code",
   "execution_count": 70,
   "id": "dd04741d",
   "metadata": {},
   "outputs": [
    {
     "name": "stdout",
     "output_type": "stream",
     "text": [
      "    Maths  Reading     Writing  Placement  Club_Join_Year  Placement_Count\n",
      "0    78.0     89.0   68.000000         79            2020                1\n",
      "1    82.0     82.0   82.000000         77            2018                1\n",
      "2    87.0     75.0   60.000000         82            2022                2\n",
      "4    85.0     72.0   63.000000         89            2022                2\n",
      "5    60.0     75.0   63.000000         99            2021                3\n",
      "..    ...      ...         ...        ...             ...              ...\n",
      "64   75.0     68.0   70.000000         85            2020                2\n",
      "65   60.0     75.0   82.000000         77            2022                4\n",
      "66   84.0     75.0   85.914894        100            2020                3\n",
      "67   64.0     68.0  139.000000         95            2020                3\n",
      "68   76.0    155.0   86.000000         91            2020                3\n",
      "\n",
      "[63 rows x 6 columns]\n"
     ]
    }
   ],
   "source": [
    "print(df)"
   ]
  },
  {
   "cell_type": "markdown",
   "id": "dff56a9c",
   "metadata": {},
   "source": [
    "Outliers \n",
    "Detecting oultliers with help of box plot"
   ]
  },
  {
   "cell_type": "code",
   "execution_count": 73,
   "id": "2756dd7f",
   "metadata": {},
   "outputs": [
    {
     "data": {
      "text/plain": [
       "<Axes: >"
      ]
     },
     "execution_count": 73,
     "metadata": {},
     "output_type": "execute_result"
    },
    {
     "data": {
      "image/png": "[encoded data removed]",
      "text/plain": [
       "<Figure size 640x480 with 1 Axes>"
      ]
     },
     "metadata": {},
     "output_type": "display_data"
    }
   ],
   "source": [
    "df['Maths'].plot.box()"
   ]
  },
  {
   "cell_type": "markdown",
   "id": "f0a98b0f",
   "metadata": {},
   "source": [
    "In the above plot circle reprsents the oulier value, value aboe 120 are outliers. Let's remove it "
   ]
  },
  {
   "cell_type": "code",
   "execution_count": 81,
   "id": "9b3f85b4",
   "metadata": {},
   "outputs": [],
   "source": [
    "df=df[df['Maths']<=120]"
   ]
  },
  {
   "cell_type": "code",
   "execution_count": 82,
   "id": "0ef9916c",
   "metadata": {},
   "outputs": [
    {
     "data": {
      "text/plain": [
       "<Axes: >"
      ]
     },
     "execution_count": 82,
     "metadata": {},
     "output_type": "execute_result"
    },
    {
     "data": {
      "image/png": "[encoded data removed]",
      "text/plain": [
       "<Figure size 640x480 with 1 Axes>"
      ]
     },
     "metadata": {},
     "output_type": "display_data"
    }
   ],
   "source": [
    "df['Maths'].plot.box()"
   ]
  },
  {
   "cell_type": "markdown",
   "id": "d26ac15c",
   "metadata": {},
   "source": [
    "Now, there is no outlier in the Maths Column"
   ]
  },
  {
   "cell_type": "markdown",
   "id": "afbb9420",
   "metadata": {},
   "source": [
    "For Reading and Writing column also , we will go for box plot"
   ]
  },
  {
   "cell_type": "code",
   "execution_count": 83,
   "id": "592d72d6",
   "metadata": {},
   "outputs": [],
   "source": [
    "import matplotlib.pyplot as plt"
   ]
  },
  {
   "cell_type": "code",
   "execution_count": 84,
   "id": "c85a4b19",
   "metadata": {},
   "outputs": [
    {
     "data": {
      "text/plain": [
       "<Axes: >"
      ]
     },
     "execution_count": 84,
     "metadata": {},
     "output_type": "execute_result"
    },
    {
     "data": {
      "image/png": "[encoded data removed]",
      "text/plain": [
       "<Figure size 640x480 with 2 Axes>"
      ]
     },
     "metadata": {},
     "output_type": "display_data"
    }
   ],
   "source": [
    "plt.subplot(1,2,1)\n",
    "df['Reading'].plot.box()\n",
    "plt.subplot(1,2,2)\n",
    "df['Writing'].plot.box()"
   ]
  },
  {
   "cell_type": "markdown",
   "id": "41e9ec79",
   "metadata": {},
   "source": [
    "Here outlier for reading and writing col is above 100. Let's remove them"
   ]
  },
  {
   "cell_type": "code",
   "execution_count": 85,
   "id": "c149ccc8",
   "metadata": {},
   "outputs": [],
   "source": [
    "df=df[df['Reading']<=100]\n",
    "df=df[df['Writing']<=100]"
   ]
  },
  {
   "cell_type": "code",
   "execution_count": 86,
   "id": "acb6a922",
   "metadata": {},
   "outputs": [
    {
     "data": {
      "text/plain": [
       "<Axes: >"
      ]
     },
     "execution_count": 86,
     "metadata": {},
     "output_type": "execute_result"
    },
    {
     "data": {
      "image/png": "[encoded data removed]",
      "text/plain": [
       "<Figure size 640x480 with 2 Axes>"
      ]
     },
     "metadata": {},
     "output_type": "display_data"
    }
   ],
   "source": [
    "plt.subplot(1,2,1)\n",
    "df['Reading'].plot.box()\n",
    "plt.subplot(1,2,2)\n",
    "df['Writing'].plot.box()"
   ]
  },
  {
   "cell_type": "markdown",
   "id": "718b2fc2",
   "metadata": {},
   "source": [
    "Placement_Count is dependent on Placement column . So, let's use scatter() function "
   ]
  },
  {
   "cell_type": "code",
   "execution_count": 87,
   "id": "b01abbe5",
   "metadata": {},
   "outputs": [
    {
     "data": {
      "text/plain": [
       "<matplotlib.collections.PathCollection at 0x2d650d27ed0>"
      ]
     },
     "execution_count": 87,
     "metadata": {},
     "output_type": "execute_result"
    },
    {
     "data": {
      "image/png": "[encoded data removed]",
      "text/plain": [
       "<Figure size 640x480 with 1 Axes>"
      ]
     },
     "metadata": {},
     "output_type": "display_data"
    }
   ],
   "source": [
    "plt.scatter(df['Placement'],df['Placement_Count'])"
   ]
  },
  {
   "cell_type": "markdown",
   "id": "f5aef99f",
   "metadata": {},
   "source": [
    "Looking at the plot ,we can say that Placement_Count of 4 and above is outlier. So, let's remove it "
   ]
  },
  {
   "cell_type": "code",
   "execution_count": 90,
   "id": "e17feb89",
   "metadata": {},
   "outputs": [],
   "source": [
    "df=df[df['Placement_Count']<4]"
   ]
  },
  {
   "cell_type": "code",
   "execution_count": 91,
   "id": "a4bb73b3",
   "metadata": {},
   "outputs": [
    {
     "data": {
      "text/plain": [
       "<matplotlib.collections.PathCollection at 0x2d650db5110>"
      ]
     },
     "execution_count": 91,
     "metadata": {},
     "output_type": "execute_result"
    },
    {
     "data": {
      "image/png": "[encoded data removed]",
      "text/plain": [
       "<Figure size 640x480 with 1 Axes>"
      ]
     },
     "metadata": {},
     "output_type": "display_data"
    }
   ],
   "source": [
    "plt.scatter(df['Placement'],df['Placement_Count'])"
   ]
  },
  {
   "cell_type": "code",
   "execution_count": null,
   "id": "084d0ff7",
   "metadata": {},
   "outputs": [],
   "source": []
  }
 ],
 "metadata": {
  "kernelspec": {
   "display_name": "Python 3 (ipykernel)",
   "language": "python",
   "name": "python3"
  },
  "language_info": {
   "codemirror_mode": {
    "name": "ipython",
    "version": 3
   },
   "file_extension": ".py",
   "mimetype": "text/x-python",
   "name": "python",
   "nbconvert_exporter": "python",
   "pygments_lexer": "ipython3",
   "version": "3.11.5"
  }
 },
 "nbformat": 4,
 "nbformat_minor": 5
}
